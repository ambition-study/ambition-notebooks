{
 "cells": [
  {
   "cell_type": "markdown",
   "metadata": {},
   "source": [
    "# Training Dataset CSV Exports\n",
    "* export CRF data to CSV\n",
    "* export INLINE data to CSV for CRFs with inlines"
   ]
  },
  {
   "cell_type": "code",
   "execution_count": null,
   "metadata": {},
   "outputs": [],
   "source": [
    "import pandas\n",
    "\n",
    "from datetime import datetime\n",
    "from django.apps import apps as django_apps\n",
    "from edc_pdutils import CsvCrfTablesExporter, CrfDfHandler, CsvCrfInlineTablesExporter\n",
    "from edc_pdutils.csv_exporters import CsvCrfTablesExporter\n",
    "from edc_pdutils.table_to_dataframe import Helper\n",
    "import numpy as np\n",
    "import pandas as pd\n",
    "import os\n",
    "import sys\n",
    "from django.db import DatabaseError\n",
    "\n",
    "csv_path = '/Users/erikvw/Documents/ambition/export/'\n",
    "na_value = np.nan\n",
    "date_format = '%Y-%m-%d'\n",
    "sep = ','\n",
    "timestamp = datetime.now().strftime('%Y%m%d%H%M')\n",
    "SYSTEM_COLUMNS = [\n",
    "    'hostname_created', 'hostname_modified',\n",
    "    'device_created', 'device_modified', 'revision']\n"
   ]
  },
  {
   "cell_type": "markdown",
   "metadata": {},
   "source": [
    "## Export all CRF models with data"
   ]
  },
  {
   "cell_type": "code",
   "execution_count": null,
   "metadata": {},
   "outputs": [],
   "source": [
    "class MyDfHandler(CrfDfHandler):\n",
    "    visit_tbl = 'ambition_subject_subjectvisit'\n",
    "    registered_subject_tbl = 'edc_registration_registeredsubject'\n",
    "    appointment_tbl = 'edc_appointment_appointment'\n",
    "    exclude_columns = ['form_as_json', 'survival_status','last_alive_date',\n",
    "                       'screening_age_in_years', 'registration_datetime',\n",
    "                       'subject_type']\n",
    "\n",
    "class MyCsvCrfTablesExporter(CsvCrfTablesExporter):\n",
    "    visit_columns = ['subject_visit_id']\n",
    "    datetime_fields = ['randomization_datetime']\n",
    "    df_handler_cls = MyDfHandler\n",
    "    app_label = 'ambition_subject'\n",
    "    export_folder = csv_path\n",
    "\n",
    "sys.stdout.write('\\n')\n",
    "exporter = MyCsvCrfTablesExporter()\n",
    "exporter.to_csv(date_format=date_format, delimiter=sep)"
   ]
  },
  {
   "cell_type": "markdown",
   "metadata": {},
   "source": [
    "## Export all Inline models with data"
   ]
  },
  {
   "cell_type": "code",
   "execution_count": null,
   "metadata": {},
   "outputs": [],
   "source": [
    "class MyDfHandler(CrfDfHandler):\n",
    "    visit_tbl = 'ambition_subject_subjectvisit'\n",
    "    registered_subject_tbl = 'edc_registration_registeredsubject'\n",
    "    appointment_tbl = 'edc_appointment_appointment'\n",
    "    exclude_columns = ['form_as_json', 'survival_status','last_alive_date',\n",
    "                       'screening_age_in_years', 'registration_datetime',\n",
    "                       'subject_type']\n",
    "\n",
    "\n",
    "class MyCsvCrfInlineTablesExporter(CsvCrfInlineTablesExporter):\n",
    "    visit_columns = ['subject_visit_id']\n",
    "    df_handler_cls = MyDfHandler\n",
    "    app_label = 'ambition_subject'\n",
    "    export_folder = csv_path\n",
    "    exclude_inline_tables = [\n",
    "        'ambition_subject_radiology_abnormal_results_reason',\n",
    "        'ambition_subject_radiology_cxr_type']\n",
    "sys.stdout.write('\\n')\n",
    "exporter = MyCsvCrfInlineTablesExporter()\n",
    "exporter.to_csv(date_format=date_format, delimiter=sep)\n"
   ]
  },
  {
   "cell_type": "code",
   "execution_count": null,
   "metadata": {},
   "outputs": [],
   "source": []
  },
  {
   "cell_type": "code",
   "execution_count": null,
   "metadata": {},
   "outputs": [],
   "source": []
  },
  {
   "cell_type": "code",
   "execution_count": null,
   "metadata": {},
   "outputs": [],
   "source": []
  }
 ],
 "metadata": {
  "kernelspec": {
   "display_name": "Django Shell-Plus",
   "language": "python",
   "name": "django_extensions"
  },
  "language_info": {
   "codemirror_mode": {
    "name": "ipython",
    "version": 3
   },
   "file_extension": ".py",
   "mimetype": "text/x-python",
   "name": "python",
   "nbconvert_exporter": "python",
   "pygments_lexer": "ipython3",
   "version": "3.6.3"
  }
 },
 "nbformat": 4,
 "nbformat_minor": 2
}
